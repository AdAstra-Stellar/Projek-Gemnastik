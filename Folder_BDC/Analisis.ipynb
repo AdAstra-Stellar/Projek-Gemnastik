{
 "cells": [
  {
   "cell_type": "code",
   "execution_count": 2,
   "metadata": {},
   "outputs": [
    {
     "name": "stdout",
     "output_type": "stream",
     "text": [
      "<class 'pandas.core.frame.DataFrame'>\n",
      "RangeIndex: 8000 entries, 0 to 7999\n",
      "Data columns (total 1 columns):\n",
      " #   Column                                                                                                                                                                                                                 Non-Null Count  Dtype \n",
      "---  ------                                                                                                                                                                                                                 --------------  ----- \n",
      " 0   ID_Siswa;Usia;Berat_Badan;Tinggi_Badan;IMT;Asupan_Kalori;Aktivitas_Fisik;Kategori_Gizi;Tingkat_Kesulitan;Jenis_Kelamin;Frekuensi_Makan;Konsumsi_Sayur_Buah;Durasi_Tidur (Menit);Fast_Food_Per_Minggu;Riwayat_Penyakit  8000 non-null   object\n",
      "dtypes: object(1)\n",
      "memory usage: 62.6+ KB\n",
      "<class 'pandas.core.frame.DataFrame'>\n",
      "RangeIndex: 8000 entries, 0 to 7999\n",
      "Data columns (total 15 columns):\n",
      " #   Column                Non-Null Count  Dtype  \n",
      "---  ------                --------------  -----  \n",
      " 0   ID_Siswa              8000 non-null   int64  \n",
      " 1   Usia                  8000 non-null   int64  \n",
      " 2   Berat_Badan           8000 non-null   float64\n",
      " 3   Tinggi_Badan          8000 non-null   float64\n",
      " 4   IMT                   8000 non-null   float64\n",
      " 5   Asupan_Kalori         8000 non-null   int64  \n",
      " 6   Aktivitas_Fisik       8000 non-null   int64  \n",
      " 7   Kategori_Gizi         8000 non-null   object \n",
      " 8   Tingkat_Kesulitan     8000 non-null   object \n",
      " 9   Jenis_Kelamin         8000 non-null   object \n",
      " 10  Frekuensi_Makan       8000 non-null   int64  \n",
      " 11  Konsumsi_Sayur_Buah   8000 non-null   int64  \n",
      " 12  Durasi_Tidur (Menit)  8000 non-null   float64\n",
      " 13  Fast_Food_Per_Minggu  8000 non-null   int64  \n",
      " 14  Riwayat_Penyakit      8000 non-null   object \n",
      "dtypes: float64(4), int64(7), object(4)\n",
      "memory usage: 937.6+ KB\n"
     ]
    },
    {
     "data": {
      "text/plain": [
       "Kategori_Gizi\n",
       "Gizi Lebih     0.451875\n",
       "Gizi Kurang    0.341500\n",
       "Gizi Baik      0.206625\n",
       "Name: proportion, dtype: float64"
      ]
     },
     "execution_count": 2,
     "metadata": {},
     "output_type": "execute_result"
    }
   ],
   "source": [
    "import pandas as pd\n",
    "\n",
    "# Muat Datasets\n",
    "train_path = \"D:/File-File Kompetisi/Satria Data/data_training.csv\"\n",
    "test_path = \"D:/File-File Kompetisi/Satria Data/data_testing_no_label.csv\"\n",
    "submission_path = \"D:/File-File Kompetisi/Satria Data/Sample_Submission.csv\"\n",
    "\n",
    "# Baca data training \n",
    "df_train = pd.read_csv(train_path)\n",
    "df_test = pd.read_csv(test_path)\n",
    "df_submission = pd.read_csv(submission_path)\n",
    "\n",
    "# Display informasi umum tentang data training\n",
    "df_train.info(), df_train.head()\n",
    "\n",
    "# Muat ulang datasets dengan delimiter yang sesuai\n",
    "df_train = pd.read_csv(train_path, delimiter=';')\n",
    "df_test = pd.read_csv(test_path, delimiter=';')\n",
    "\n",
    "# Display informasi umum tentang data training\n",
    "df_train.info(), df_train.head()\n",
    "\n",
    "# Cek distribusi kelas target\n",
    "df_train[\"Kategori_Gizi\"].value_counts(normalize=True)\n"
   ]
  },
  {
   "cell_type": "markdown",
   "metadata": {},
   "source": [
    "Kesimpulan \n",
    "Gizi Lebih : 45.18 %\n",
    "Gizi Kurang : 34.15 %\n",
    "Gizi Baik : 20.66 % (Paling Sedikit) "
   ]
  },
  {
   "cell_type": "code",
   "execution_count": 3,
   "metadata": {},
   "outputs": [
    {
     "data": {
      "text/plain": [
       "(array(['Gizi Baik', 'Gizi Kurang', 'Gizi Lebih'], dtype=object),\n",
       " array([1, 0, 2]))"
      ]
     },
     "execution_count": 3,
     "metadata": {},
     "output_type": "execute_result"
    }
   ],
   "source": [
    "from sklearn.preprocessing import LabelEncoder\n",
    "\n",
    "# Copy dataset untuk preprocessing\n",
    "df_preprocessed = df_train.copy()\n",
    "\n",
    "# Encoding variabel kategorikal\n",
    "categorical_cols = [\"Kategori_Gizi\", \"Tingkat_Kesulitan\", \"Jenis_Kelamin\", \"Riwayat_Penyakit\"]\n",
    "label_encoders = {}\n",
    "\n",
    "for col in categorical_cols:\n",
    "    le = LabelEncoder()\n",
    "    df_preprocessed[col] = le.fit_transform(df_preprocessed[col])\n",
    "    label_encoders[col] = le\n",
    "\n",
    "# Tampilkan hasil encoding untuk kategori gizi\n",
    "label_encoders[\"Kategori_Gizi\"].classes_, df_preprocessed[\"Kategori_Gizi\"].unique()\n"
   ]
  },
  {
   "cell_type": "code",
   "execution_count": 4,
   "metadata": {},
   "outputs": [
    {
     "data": {
      "text/plain": [
       "{np.int64(1): 2.213001383125864,\n",
       " np.int64(0): 2.928257686676427,\n",
       " np.int64(2): 4.839685420447671}"
      ]
     },
     "execution_count": 4,
     "metadata": {},
     "output_type": "execute_result"
    }
   ],
   "source": [
    "import numpy as np\n",
    "from sklearn.model_selection import train_test_split\n",
    "\n",
    "# Pisahkan fitur dan label\n",
    "X = df_preprocessed.drop(columns=[\"ID_Siswa\", \"Kategori_Gizi\"])\n",
    "y = df_preprocessed[\"Kategori_Gizi\"]\n",
    "\n",
    "# Hitung class weights sebagai kebalikan dari proporsi kelas\n",
    "class_weights = {i: 1/v for i, v in zip(y.unique(), y.value_counts(normalize=True))}\n",
    "sample_weights = np.array([class_weights[label] for label in y])\n",
    "\n",
    "# Bagi data menjadi train dan validation set\n",
    "X_train, X_val, y_train, y_val, sw_train, sw_val = train_test_split(\n",
    "    X, y, sample_weights, test_size=0.2, stratify=y, random_state=42\n",
    ")\n",
    "\n",
    "# Tampilkan class weights\n",
    "class_weights\n"
   ]
  },
  {
   "cell_type": "code",
   "execution_count": 6,
   "metadata": {},
   "outputs": [
    {
     "name": "stderr",
     "output_type": "stream",
     "text": [
      "C:\\Users\\Lenovo\\AppData\\Local\\Packages\\PythonSoftwareFoundation.Python.3.13_qbz5n2kfra8p0\\LocalCache\\local-packages\\Python313\\site-packages\\xgboost\\core.py:158: UserWarning: [20:54:13] WARNING: C:\\buildkite-agent\\builds\\buildkite-windows-cpu-autoscaling-group-i-08cbc0333d8d4aae1-1\\xgboost\\xgboost-ci-windows\\src\\learner.cc:740: \n",
      "Parameters: { \"scale_pos_weight\" } are not used.\n",
      "\n",
      "  warnings.warn(smsg, UserWarning)\n"
     ]
    },
    {
     "data": {
      "text/plain": [
       "'              precision    recall  f1-score   support\\n\\n   Gizi Baik       0.99      1.00      0.99       331\\n Gizi Kurang       1.00      1.00      1.00       546\\n  Gizi Lebih       1.00      1.00      1.00       723\\n\\n    accuracy                           1.00      1600\\n   macro avg       1.00      1.00      1.00      1600\\nweighted avg       1.00      1.00      1.00      1600\\n'"
      ]
     },
     "execution_count": 6,
     "metadata": {},
     "output_type": "execute_result"
    }
   ],
   "source": [
    "import xgboost as xgb\n",
    "from sklearn.metrics import classification_report\n",
    "\n",
    "# Inisialisasi model XGBoost dengan parameter dasar\n",
    "model = xgb.XGBClassifier(\n",
    "    objective=\"multi:softmax\",\n",
    "    num_class=3,\n",
    "    eval_metric=\"mlogloss\",\n",
    "    scale_pos_weight=[class_weights[0], class_weights[1], class_weights[2]],\n",
    "    random_state=42\n",
    ")\n",
    "\n",
    "# Latih model dengan sample weights\n",
    "model.fit(X_train, y_train, sample_weight=sw_train)\n",
    "\n",
    "# Prediksi pada validation set\n",
    "y_pred = model.predict(X_val)\n",
    "\n",
    "# Evaluasi model\n",
    "report = classification_report(y_val, y_pred, target_names=label_encoders[\"Kategori_Gizi\"].classes_)\n",
    "report\n"
   ]
  }
 ],
 "metadata": {
  "kernelspec": {
   "display_name": "Python 3",
   "language": "python",
   "name": "python3"
  },
  "language_info": {
   "codemirror_mode": {
    "name": "ipython",
    "version": 3
   },
   "file_extension": ".py",
   "mimetype": "text/x-python",
   "name": "python",
   "nbconvert_exporter": "python",
   "pygments_lexer": "ipython3",
   "version": "3.13.2"
  }
 },
 "nbformat": 4,
 "nbformat_minor": 2
}
