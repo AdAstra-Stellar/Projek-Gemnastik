{
 "cells": [
  {
   "cell_type": "code",
   "execution_count": 5,
   "metadata": {},
   "outputs": [
    {
     "name": "stdout",
     "output_type": "stream",
     "text": [
      "<class 'pandas.core.frame.DataFrame'>\n",
      "RangeIndex: 8000 entries, 0 to 7999\n",
      "Data columns (total 1 columns):\n",
      " #   Column                                                                                                                                                                                                                 Non-Null Count  Dtype \n",
      "---  ------                                                                                                                                                                                                                 --------------  ----- \n",
      " 0   ID_Siswa;Usia;Berat_Badan;Tinggi_Badan;IMT;Asupan_Kalori;Aktivitas_Fisik;Kategori_Gizi;Tingkat_Kesulitan;Jenis_Kelamin;Frekuensi_Makan;Konsumsi_Sayur_Buah;Durasi_Tidur (Menit);Fast_Food_Per_Minggu;Riwayat_Penyakit  8000 non-null   object\n",
      "dtypes: object(1)\n",
      "memory usage: 62.6+ KB\n",
      "<class 'pandas.core.frame.DataFrame'>\n",
      "RangeIndex: 8000 entries, 0 to 7999\n",
      "Data columns (total 15 columns):\n",
      " #   Column                Non-Null Count  Dtype  \n",
      "---  ------                --------------  -----  \n",
      " 0   ID_Siswa              8000 non-null   int64  \n",
      " 1   Usia                  8000 non-null   int64  \n",
      " 2   Berat_Badan           8000 non-null   float64\n",
      " 3   Tinggi_Badan          8000 non-null   float64\n",
      " 4   IMT                   8000 non-null   float64\n",
      " 5   Asupan_Kalori         8000 non-null   int64  \n",
      " 6   Aktivitas_Fisik       8000 non-null   int64  \n",
      " 7   Kategori_Gizi         8000 non-null   object \n",
      " 8   Tingkat_Kesulitan     8000 non-null   object \n",
      " 9   Jenis_Kelamin         8000 non-null   object \n",
      " 10  Frekuensi_Makan       8000 non-null   int64  \n",
      " 11  Konsumsi_Sayur_Buah   8000 non-null   int64  \n",
      " 12  Durasi_Tidur (Menit)  8000 non-null   float64\n",
      " 13  Fast_Food_Per_Minggu  8000 non-null   int64  \n",
      " 14  Riwayat_Penyakit      8000 non-null   object \n",
      "dtypes: float64(4), int64(7), object(4)\n",
      "memory usage: 937.6+ KB\n"
     ]
    },
    {
     "data": {
      "text/plain": [
       "Kategori_Gizi\n",
       "Gizi Lebih     0.451875\n",
       "Gizi Kurang    0.341500\n",
       "Gizi Baik      0.206625\n",
       "Name: proportion, dtype: float64"
      ]
     },
     "execution_count": 5,
     "metadata": {},
     "output_type": "execute_result"
    }
   ],
   "source": [
    "import pandas as pd\n",
    "\n",
    "# Muat Datasets\n",
    "train_path = \"D:/File-File Kompetisi/Satria Data/data_training.csv\"\n",
    "test_path = \"D:/File-File Kompetisi/Satria Data/data_testing_no_label.csv\"\n",
    "submission_path = \"D:/File-File Kompetisi/Satria Data/Sample_Submission.csv\"\n",
    "\n",
    "# Baca data training \n",
    "df_train = pd.read_csv(train_path)\n",
    "df_test = pd.read_csv(test_path)\n",
    "df_submission = pd.read_csv(submission_path)\n",
    "\n",
    "# Display informasi umum tentang data training\n",
    "df_train.info(), df_train.head()\n",
    "\n",
    "# Muat ulang datasets dengan delimiter yang sesuai\n",
    "df_train = pd.read_csv(train_path, delimiter=';')\n",
    "df_test = pd.read_csv(test_path, delimiter=';')\n",
    "\n",
    "# Display informasi umum tentang data training\n",
    "df_train.info(), df_train.head()\n",
    "\n",
    "# Cek distribusi kelas target\n",
    "df_train[\"Kategori_Gizi\"].value_counts(normalize=True)\n"
   ]
  },
  {
   "cell_type": "markdown",
   "metadata": {},
   "source": [
    "Kesimpulan \n",
    "Gizi Lebih : 45.18 %\n",
    "Gizi Kurang : 34.15 %\n",
    "Gizi Baik : 20.66 % (Paling Sedikit) "
   ]
  },
  {
   "cell_type": "code",
   "execution_count": null,
   "metadata": {},
   "outputs": [
    {
     "ename": "ImportError",
     "evalue": "cannot import name 'LabelEncoder' from 'sklearn_preprocessing' (C:\\Users\\Lenovo\\AppData\\Local\\Packages\\PythonSoftwareFoundation.Python.3.13_qbz5n2kfra8p0\\LocalCache\\local-packages\\Python313\\site-packages\\sklearn_preprocessing\\__init__.py)",
     "output_type": "error",
     "traceback": [
      "\u001b[1;31m---------------------------------------------------------------------------\u001b[0m",
      "\u001b[1;31mImportError\u001b[0m                               Traceback (most recent call last)",
      "Cell \u001b[1;32mIn[2], line 1\u001b[0m\n\u001b[1;32m----> 1\u001b[0m \u001b[38;5;28;01mfrom\u001b[39;00m\u001b[38;5;250m \u001b[39m\u001b[38;5;21;01msklearn_preprocessing\u001b[39;00m\u001b[38;5;250m \u001b[39m\u001b[38;5;28;01mimport\u001b[39;00m LabelEncoder\n\u001b[0;32m      3\u001b[0m \u001b[38;5;66;03m# Copy dataset untuk preprocessing\u001b[39;00m\n\u001b[0;32m      4\u001b[0m df_preprocessed \u001b[38;5;241m=\u001b[39m df_train\u001b[38;5;241m.\u001b[39mcopy()\n",
      "\u001b[1;31mImportError\u001b[0m: cannot import name 'LabelEncoder' from 'sklearn_preprocessing' (C:\\Users\\Lenovo\\AppData\\Local\\Packages\\PythonSoftwareFoundation.Python.3.13_qbz5n2kfra8p0\\LocalCache\\local-packages\\Python313\\site-packages\\sklearn_preprocessing\\__init__.py)"
     ]
    }
   ],
   "source": []
  }
 ],
 "metadata": {
  "kernelspec": {
   "display_name": "Python 3",
   "language": "python",
   "name": "python3"
  },
  "language_info": {
   "codemirror_mode": {
    "name": "ipython",
    "version": 3
   },
   "file_extension": ".py",
   "mimetype": "text/x-python",
   "name": "python",
   "nbconvert_exporter": "python",
   "pygments_lexer": "ipython3",
   "version": "3.13.2"
  }
 },
 "nbformat": 4,
 "nbformat_minor": 2
}
